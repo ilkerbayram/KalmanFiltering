{
 "cells": [
  {
   "cell_type": "markdown",
   "id": "aeefe616",
   "metadata": {},
   "source": [
    "# RTS Smoothing\n",
    "This notebook explores the Rauch-Tung-Striebel Smoother on a problem described in \"Bayesian Filtering and Smoothing\" by Sarkka."
   ]
  },
  {
   "cell_type": "markdown",
   "id": "1559da0f",
   "metadata": {},
   "source": [
    "We start by implementing a class that produces data -- see Example 4.3 in the book."
   ]
  },
  {
   "cell_type": "code",
   "execution_count": 1,
   "id": "10486edd",
   "metadata": {},
   "outputs": [],
   "source": [
    "import numpy as np\n",
    "import matplotlib.pyplot as plt\n",
    "%matplotlib inline"
   ]
  },
  {
   "cell_type": "markdown",
   "id": "78760882",
   "metadata": {},
   "source": [
    "Start by implementing a simple state space model"
   ]
  },
  {
   "cell_type": "code",
   "execution_count": 2,
   "id": "c4d49ec1",
   "metadata": {},
   "outputs": [],
   "source": [
    "class StateSpace:    \n",
    "    def __init__(self, A, H, Q, R):\n",
    "        self.A = A # state-transition matrix \n",
    "        self.H = H # observation matrix\n",
    "        self.Q = Q # state noise covariance\n",
    "        self.R = R # observation noise covariance\n",
    "        self.x = self.reset()\n",
    "    def reset(self):\n",
    "        return np.zeros(self.A.shape[0])\n",
    "    def __call__(self):\n",
    "        \"\"\"\n",
    "        single data generation step\n",
    "        \"\"\"\n",
    "        self.x = self.A.dot(self.x) + np.random.multivariate_normal(np.zeros(self.x.size), self.Q)\n",
    "        obs = self.H.dot(self.x) + np.random.multivariate_normal(np.zeros(self.H.shape[0]), self.R)\n",
    "        return obs, self.x.copy()"
   ]
  },
  {
   "cell_type": "code",
   "execution_count": 3,
   "id": "30139c1f",
   "metadata": {},
   "outputs": [],
   "source": [
    "class CarData:\n",
    "    def __init__(self, dt = 1e-1, q1=1., q2=1., sigma1=0.5, sigma2=0.5):\n",
    "        iden = np.eye(2)\n",
    "        z = np.zeros((2,2))\n",
    "        A = np.block([[iden,dt * iden],\n",
    "                      [z, iden]\n",
    "                     ])\n",
    "        H = np.block([iden, z])\n",
    "        q = np.array([q1,q2])\n",
    "        b1 = np.diag(dt**3/3 * q)\n",
    "        b2 = np.diag(dt**2/2 * q)\n",
    "        b3 = np.diag(dt * q)\n",
    "        Q = np.block([[b1,b2],[b2,b3]])\n",
    "        R = np.diag([sigma1**2, sigma2**2])\n",
    "        self.state_space = StateSpace(A, H, Q, R)\n",
    "    def __call__(self):\n",
    "        return self.state_space()"
   ]
  },
  {
   "cell_type": "code",
   "execution_count": 4,
   "id": "b0ad5602",
   "metadata": {},
   "outputs": [],
   "source": [
    "car = CarData()\n",
    "dat = [car() for _ in range(200)]\n",
    "y, x = zip(*dat)\n",
    "y = np.stack(y)"
   ]
  },
  {
   "cell_type": "code",
   "execution_count": 5,
   "id": "bec89a20",
   "metadata": {},
   "outputs": [
    {
     "data": {
      "text/plain": [
       "<matplotlib.collections.PathCollection at 0x7fceb81dfa90>"
      ]
     },
     "execution_count": 5,
     "metadata": {},
     "output_type": "execute_result"
    },
    {
     "data": {
      "image/png": "[encoded data removed]",
      "text/plain": [
       "<Figure size 640x480 with 1 Axes>"
      ]
     },
     "metadata": {},
     "output_type": "display_data"
    }
   ],
   "source": [
    "fig, ax = plt.subplots()\n",
    "ax.scatter(y[:,0], y[:,1])"
   ]
  },
  {
   "cell_type": "code",
   "execution_count": null,
   "id": "b089e5f8",
   "metadata": {},
   "outputs": [],
   "source": []
  }
 ],
 "metadata": {
  "kernelspec": {
   "display_name": "Python 3 (ipykernel)",
   "language": "python",
   "name": "python3"
  },
  "language_info": {
   "codemirror_mode": {
    "name": "ipython",
    "version": 3
   },
   "file_extension": ".py",
   "mimetype": "text/x-python",
   "name": "python",
   "nbconvert_exporter": "python",
   "pygments_lexer": "ipython3",
   "version": "3.10.9"
  }
 },
 "nbformat": 4,
 "nbformat_minor": 5
}
